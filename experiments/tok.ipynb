{
 "cells": [
  {
   "cell_type": "code",
   "execution_count": 1,
   "id": "a4722734",
   "metadata": {},
   "outputs": [
    {
     "name": "stdout",
     "output_type": "stream",
     "text": [
      "Imports and global definitions loaded.\n",
      "Data directory: /Users/jihonggan/code/gpt/data\n"
     ]
    }
   ],
   "source": [
    "from gpt.tokenizer import train\n",
    "import json\n",
    "import base64\n",
    "from config import DATA_DIR, EOT\n",
    "\n",
    "\n",
    "print(\"Imports and global definitions loaded.\")\n",
    "print(f\"Data directory: {DATA_DIR}\")"
   ]
  },
  {
   "cell_type": "code",
   "execution_count": 2,
   "id": "2856b880",
   "metadata": {},
   "outputs": [
    {
     "name": "stdout",
     "output_type": "stream",
     "text": [
      "Tokenizer training complete.\n",
      "Out directory: /Users/jihonggan/code/gpt/data/tinystories_bpe\n"
     ]
    }
   ],
   "source": [
    "def train_tinystories_tok():\n",
    "    vocab, merges = train(\n",
    "        DATA_DIR / \"TinyStoriesV2-GPT4-train.txt\",\n",
    "        10000,\n",
    "        [EOT],\n",
    "    )\n",
    "\n",
    "    out = DATA_DIR / \"tinystories_bpe\"\n",
    "    out.mkdir(exist_ok=True)\n",
    "\n",
    "    # ── vocab: id → bytes (stored as base64)\n",
    "    with open(out / \"vocab.json\", \"w\") as f:\n",
    "        json.dump(\n",
    "            {\n",
    "                str(i): base64.b64encode(tok).decode(\"ascii\")\n",
    "                for i, tok in vocab.items()\n",
    "            },\n",
    "            f,\n",
    "        )\n",
    "\n",
    "    # ── merges: one \"token1 token2\" per line, as base64\n",
    "    with open(out / \"merges.txt\", \"w\") as f:\n",
    "        for a, b in merges:\n",
    "            a_str = base64.b64encode(a).decode(\"ascii\")\n",
    "            b_str = base64.b64encode(b).decode(\"ascii\")\n",
    "            f.write(f\"{a_str} {b_str}\\n\")\n",
    "\n",
    "train_tinystories_tok()\n",
    "\n",
    "print(\"Tokenizer training complete.\")\n",
    "print(f\"Out directory: {DATA_DIR / 'tinystories_bpe'}\")"
   ]
  }
 ],
 "metadata": {
  "kernelspec": {
   "display_name": ".venv",
   "language": "python",
   "name": "python3"
  },
  "language_info": {
   "codemirror_mode": {
    "name": "ipython",
    "version": 3
   },
   "file_extension": ".py",
   "mimetype": "text/x-python",
   "name": "python",
   "nbconvert_exporter": "python",
   "pygments_lexer": "ipython3",
   "version": "3.13.3"
  }
 },
 "nbformat": 4,
 "nbformat_minor": 5
}
